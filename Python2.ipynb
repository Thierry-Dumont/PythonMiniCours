{
 "cells": [
  {
   "cell_type": "markdown",
   "id": "9b418c75",
   "metadata": {
    "slideshow": {
     "slide_type": "slide"
    }
   },
   "source": [
    "# Types"
   ]
  },
  {
   "cell_type": "code",
   "execution_count": null,
   "id": "d97c1f16",
   "metadata": {
    "slideshow": {
     "slide_type": "slide"
    }
   },
   "outputs": [],
   "source": [
    "x= 1\n",
    "type(x)"
   ]
  },
  {
   "cell_type": "code",
   "execution_count": null,
   "id": "ff46d46d",
   "metadata": {
    "slideshow": {
     "slide_type": "fragment"
    }
   },
   "outputs": [],
   "source": [
    "x= 1.2\n",
    "type(x)"
   ]
  },
  {
   "cell_type": "code",
   "execution_count": null,
   "id": "00765f5f",
   "metadata": {
    "slideshow": {
     "slide_type": "fragment"
    }
   },
   "outputs": [],
   "source": [
    "x=\"abcd\"\n",
    "type(x)"
   ]
  },
  {
   "cell_type": "code",
   "execution_count": null,
   "id": "bf0a96fd",
   "metadata": {},
   "outputs": [],
   "source": [
    "x=True\n",
    "type(x)"
   ]
  },
  {
   "cell_type": "markdown",
   "id": "c281d5fc",
   "metadata": {
    "slideshow": {
     "slide_type": "slide"
    }
   },
   "source": [
    "### Attention !"
   ]
  },
  {
   "cell_type": "code",
   "execution_count": null,
   "id": "6bef34c2",
   "metadata": {},
   "outputs": [],
   "source": [
    "x=\"123\"\n",
    "y=123"
   ]
  },
  {
   "cell_type": "code",
   "execution_count": null,
   "id": "d74f39bb",
   "metadata": {},
   "outputs": [],
   "source": [
    "type(x)"
   ]
  },
  {
   "cell_type": "code",
   "execution_count": null,
   "id": "fe172bdd",
   "metadata": {},
   "outputs": [],
   "source": [
    "type(y)"
   ]
  },
  {
   "cell_type": "code",
   "execution_count": null,
   "id": "bd0f81de",
   "metadata": {
    "slideshow": {
     "slide_type": "fragment"
    }
   },
   "outputs": [],
   "source": [
    "z=2*x"
   ]
  },
  {
   "cell_type": "code",
   "execution_count": null,
   "id": "0d955e72",
   "metadata": {},
   "outputs": [],
   "source": [
    "print(z)"
   ]
  },
  {
   "cell_type": "code",
   "execution_count": null,
   "id": "58bc4d2f",
   "metadata": {},
   "outputs": [],
   "source": [
    "type(z)"
   ]
  },
  {
   "cell_type": "code",
   "execution_count": null,
   "id": "e8febf1d",
   "metadata": {},
   "outputs": [],
   "source": [
    "t=2*y\n",
    "print(t)"
   ]
  },
  {
   "cell_type": "markdown",
   "id": "343e14bd",
   "metadata": {
    "slideshow": {
     "slide_type": "slide"
    }
   },
   "source": [
    "### Chaînes de caractères (string, str)"
   ]
  },
  {
   "cell_type": "code",
   "execution_count": null,
   "id": "376cb6c1",
   "metadata": {
    "slideshow": {
     "slide_type": "slide"
    }
   },
   "outputs": [],
   "source": [
    "s= \"Coucou c'est moi\""
   ]
  },
  {
   "cell_type": "code",
   "execution_count": null,
   "id": "1e9d1619",
   "metadata": {
    "slideshow": {
     "slide_type": "-"
    }
   },
   "outputs": [],
   "source": [
    "t= 'Coucou c\\'est moi'"
   ]
  },
  {
   "cell_type": "code",
   "execution_count": null,
   "id": "10fb0b78",
   "metadata": {
    "slideshow": {
     "slide_type": "-"
    }
   },
   "outputs": [],
   "source": [
    "s==t"
   ]
  },
  {
   "cell_type": "code",
   "execution_count": null,
   "id": "a4d5ea55",
   "metadata": {
    "slideshow": {
     "slide_type": "slide"
    }
   },
   "outputs": [],
   "source": [
    "s.find('moi')"
   ]
  },
  {
   "cell_type": "code",
   "execution_count": null,
   "id": "06302db0",
   "metadata": {},
   "outputs": [],
   "source": [
    "s[2]"
   ]
  },
  {
   "cell_type": "code",
   "execution_count": null,
   "id": "165984b5",
   "metadata": {},
   "outputs": [],
   "source": [
    "s[0:6]"
   ]
  },
  {
   "cell_type": "code",
   "execution_count": null,
   "id": "67f1dc4e",
   "metadata": {
    "slideshow": {
     "slide_type": "slide"
    }
   },
   "outputs": [],
   "source": [
    "s1=s+\" !\""
   ]
  },
  {
   "cell_type": "code",
   "execution_count": null,
   "id": "09cf370e",
   "metadata": {},
   "outputs": [],
   "source": [
    "print(s1)"
   ]
  },
  {
   "cell_type": "code",
   "execution_count": null,
   "id": "6cde81a4",
   "metadata": {
    "slideshow": {
     "slide_type": "slide"
    }
   },
   "outputs": [],
   "source": [
    "morceaux=s1.split()"
   ]
  },
  {
   "cell_type": "code",
   "execution_count": null,
   "id": "633a4981",
   "metadata": {
    "slideshow": {
     "slide_type": "-"
    }
   },
   "outputs": [],
   "source": [
    "print(morceaux)"
   ]
  },
  {
   "cell_type": "code",
   "execution_count": null,
   "id": "3f7aaeaa",
   "metadata": {
    "slideshow": {
     "slide_type": "-"
    }
   },
   "outputs": [],
   "source": [
    "type(morceaux)"
   ]
  },
  {
   "cell_type": "code",
   "execution_count": null,
   "id": "7f1bdb1d",
   "metadata": {
    "slideshow": {
     "slide_type": "fragment"
    }
   },
   "outputs": [],
   "source": [
    "for i in range(0,len(morceaux)):\n",
    "    print(i,morceaux[i])"
   ]
  },
  {
   "cell_type": "code",
   "execution_count": null,
   "id": "a52b8c0d",
   "metadata": {
    "slideshow": {
     "slide_type": "fragment"
    }
   },
   "outputs": [],
   "source": [
    "for i in morceaux:\n",
    "    print(i)"
   ]
  },
  {
   "cell_type": "code",
   "execution_count": null,
   "id": "fbfca34a",
   "metadata": {
    "slideshow": {
     "slide_type": "fragment"
    }
   },
   "outputs": [],
   "source": [
    "type(morceaux[1])"
   ]
  },
  {
   "cell_type": "code",
   "execution_count": null,
   "id": "8cb79e66",
   "metadata": {
    "slideshow": {
     "slide_type": "slide"
    }
   },
   "outputs": [],
   "source": [
    "ns=\"-\".join(morceaux)\n",
    "print(ns)"
   ]
  },
  {
   "cell_type": "code",
   "execution_count": null,
   "id": "6495227e",
   "metadata": {
    "slideshow": {
     "slide_type": "fragment"
    }
   },
   "outputs": [],
   "source": [
    "ns.replace('-',' ')"
   ]
  },
  {
   "cell_type": "code",
   "execution_count": null,
   "id": "a5a4dae3",
   "metadata": {},
   "outputs": [],
   "source": [
    "ns.replace('-',' ') == s1"
   ]
  },
  {
   "cell_type": "markdown",
   "id": "51568abe",
   "metadata": {
    "slideshow": {
     "slide_type": "subslide"
    }
   },
   "source": [
    "##### Depuis Python 3, support de l'unicode:"
   ]
  },
  {
   "cell_type": "code",
   "execution_count": null,
   "id": "0ac7bd46",
   "metadata": {},
   "outputs": [],
   "source": [
    "HanZi= \"你好！ 身体怎么样？\"\n",
    "print(HanZi)"
   ]
  },
  {
   "cell_type": "markdown",
   "id": "5e486c7b",
   "metadata": {
    "slideshow": {
     "slide_type": "slide"
    }
   },
   "source": [
    "### Remarque sur les fonctions.\n",
    " Elles sont **génériques.**"
   ]
  },
  {
   "cell_type": "code",
   "execution_count": null,
   "id": "dab266cc",
   "metadata": {
    "slideshow": {
     "slide_type": "fragment"
    }
   },
   "outputs": [],
   "source": [
    "def sum(a,b):\n",
    "    return a+b"
   ]
  },
  {
   "cell_type": "code",
   "execution_count": null,
   "id": "c81389f8",
   "metadata": {
    "slideshow": {
     "slide_type": "fragment"
    }
   },
   "outputs": [],
   "source": [
    "sum(2,3)"
   ]
  },
  {
   "cell_type": "markdown",
   "id": "7fb893c7",
   "metadata": {
    "slideshow": {
     "slide_type": "subslide"
    }
   },
   "source": [
    "À priori, la fonction *sum* va fonctionner pour tous les types pour lesquels \"+\" est défini :"
   ]
  },
  {
   "cell_type": "code",
   "execution_count": null,
   "id": "017dfe0e",
   "metadata": {
    "slideshow": {
     "slide_type": "-"
    }
   },
   "outputs": [],
   "source": [
    "sum(1.2, 2.3)"
   ]
  },
  {
   "cell_type": "code",
   "execution_count": null,
   "id": "d11753d4",
   "metadata": {
    "slideshow": {
     "slide_type": "subslide"
    }
   },
   "outputs": [],
   "source": [
    "sum(\"toto\",\"tutu\")"
   ]
  },
  {
   "cell_type": "markdown",
   "id": "c57a41e7",
   "metadata": {
    "slideshow": {
     "slide_type": "fragment"
    }
   },
   "source": [
    "Heu...ça, c'est quand même pas terrible :"
   ]
  },
  {
   "cell_type": "code",
   "execution_count": null,
   "id": "24fe89dc",
   "metadata": {
    "slideshow": {
     "slide_type": "fragment"
    }
   },
   "outputs": [],
   "source": [
    "sum(2,3) == sum(3,2)"
   ]
  },
  {
   "cell_type": "code",
   "execution_count": null,
   "id": "166419e0",
   "metadata": {
    "slideshow": {
     "slide_type": "fragment"
    }
   },
   "outputs": [],
   "source": [
    "sum(\"toto\",\"tutu\") == sum(\"tutu\",\"toto\")"
   ]
  },
  {
   "cell_type": "code",
   "execution_count": null,
   "id": "fc7313e3",
   "metadata": {},
   "outputs": [],
   "source": [
    "print(sum(\"toto\",\"tutu\"),sum(\"tutu\",\"toto\"))"
   ]
  },
  {
   "cell_type": "code",
   "execution_count": null,
   "id": "7b41997e",
   "metadata": {
    "slideshow": {
     "slide_type": "subslide"
    }
   },
   "outputs": [],
   "source": [
    "a=[1,2]\n",
    "b=[5,6]\n",
    "sum(a,b)"
   ]
  },
  {
   "cell_type": "code",
   "execution_count": null,
   "id": "83a5c63d",
   "metadata": {
    "slideshow": {
     "slide_type": "subslide"
    }
   },
   "outputs": [],
   "source": [
    "ensemble1={'a','truc'}\n",
    "type(ensemble1)\n"
   ]
  },
  {
   "cell_type": "code",
   "execution_count": null,
   "id": "3586a28c",
   "metadata": {},
   "outputs": [],
   "source": [
    "ensemble2={\"truc\",\"muche\"}"
   ]
  },
  {
   "cell_type": "code",
   "execution_count": null,
   "id": "3165022e",
   "metadata": {},
   "outputs": [],
   "source": [
    "sum(ensemble1,ensemble2)"
   ]
  },
  {
   "cell_type": "code",
   "execution_count": null,
   "id": "37a2f3bf",
   "metadata": {
    "slideshow": {
     "slide_type": "fragment"
    }
   },
   "outputs": [],
   "source": [
    "ensemble1.union(ensemble2)"
   ]
  },
  {
   "cell_type": "code",
   "execution_count": null,
   "id": "d9c72bcd",
   "metadata": {
    "slideshow": {
     "slide_type": "subslide"
    }
   },
   "outputs": [],
   "source": [
    "sum(\"123\",456)"
   ]
  },
  {
   "cell_type": "code",
   "execution_count": null,
   "id": "e7f42f91",
   "metadata": {
    "slideshow": {
     "slide_type": "fragment"
    }
   },
   "outputs": [],
   "source": [
    "sum(int(\"123\"),456) # \"cast\""
   ]
  },
  {
   "cell_type": "markdown",
   "id": "8baea584",
   "metadata": {
    "slideshow": {
     "slide_type": "slide"
    }
   },
   "source": [
    "## Classes\n"
   ]
  },
  {
   "cell_type": "code",
   "execution_count": null,
   "id": "9b9a85b2",
   "metadata": {},
   "outputs": [],
   "source": [
    "class Livre:\n",
    "    Titre= \"Le pays de l'alcool\"\n",
    "    Auteur= \"Mo Yan\"\n",
    "    Ref= 1360"
   ]
  },
  {
   "cell_type": "code",
   "execution_count": null,
   "id": "15badae2",
   "metadata": {},
   "outputs": [],
   "source": [
    "x=Livre"
   ]
  },
  {
   "cell_type": "code",
   "execution_count": null,
   "id": "5b79a874",
   "metadata": {},
   "outputs": [],
   "source": [
    "x.Titre"
   ]
  },
  {
   "cell_type": "code",
   "execution_count": null,
   "id": "093b21cf",
   "metadata": {
    "slideshow": {
     "slide_type": "subslide"
    }
   },
   "outputs": [],
   "source": [
    "class Livre:\n",
    "    def __init__(self,Titre,Auteur,Ref):\n",
    "        self.Titre=Titre\n",
    "        self.Auteur=Auteur\n",
    "        self.Ref=Ref"
   ]
  },
  {
   "cell_type": "code",
   "execution_count": null,
   "id": "35973a5c",
   "metadata": {},
   "outputs": [],
   "source": [
    "L1= Livre(\"Le pays de l'alcool\",\"Mo Yan\",18112)\n",
    "L2= Livre(\"À la Recherche du temps perdu\", \"M. Proust\",1437)"
   ]
  },
  {
   "cell_type": "code",
   "execution_count": null,
   "id": "2261359e",
   "metadata": {
    "slideshow": {
     "slide_type": "fragment"
    }
   },
   "outputs": [],
   "source": [
    "ll=[L1,L2]"
   ]
  },
  {
   "cell_type": "code",
   "execution_count": null,
   "id": "9d7c912e",
   "metadata": {},
   "outputs": [],
   "source": [
    "for x in ll:\n",
    "    print(x.Titre)"
   ]
  },
  {
   "cell_type": "code",
   "execution_count": null,
   "id": "9eda2986",
   "metadata": {},
   "outputs": [],
   "source": [
    "L1==L2"
   ]
  }
 ],
 "metadata": {
  "celltoolbar": "Diaporama",
  "kernelspec": {
   "display_name": "Python 3 (ipykernel)",
   "language": "python",
   "name": "python3"
  },
  "language_info": {
   "codemirror_mode": {
    "name": "ipython",
    "version": 3
   },
   "file_extension": ".py",
   "mimetype": "text/x-python",
   "name": "python",
   "nbconvert_exporter": "python",
   "pygments_lexer": "ipython3",
   "version": "3.10.6"
  }
 },
 "nbformat": 4,
 "nbformat_minor": 5
}
