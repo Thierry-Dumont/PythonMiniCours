{
 "cells": [
  {
   "cell_type": "markdown",
   "id": "4ae2e541",
   "metadata": {
    "slideshow": {
     "slide_type": "slide"
    }
   },
   "source": [
    "### Performances ?"
   ]
  },
  {
   "cell_type": "markdown",
   "id": "00159f70",
   "metadata": {
    "slideshow": {
     "slide_type": "fragment"
    }
   },
   "source": [
    "Python est lent...\n",
    "* langage interprété.\n",
    "* structures \"lentes\" (les listes)\n",
    "\n",
    "Des remèdes ?"
   ]
  },
  {
   "cell_type": "markdown",
   "id": "601db3ea",
   "metadata": {
    "slideshow": {
     "slide_type": "subslide"
    }
   },
   "source": [
    "1- Utiliser des bibliothèques supplémentaires.\n",
    "   Exemple : numpy tableaux performants"
   ]
  },
  {
   "cell_type": "markdown",
   "id": "292a8d06",
   "metadata": {
    "slideshow": {
     "slide_type": "fragment"
    }
   },
   "source": [
    "2- Appeler des routines de bibliothèques écrites dans des langages compilés (C, C++,...)"
   ]
  },
  {
   "cell_type": "markdown",
   "id": "cfcaf581",
   "metadata": {
    "slideshow": {
     "slide_type": "fragment"
    }
   },
   "source": [
    "3- Utiliser des outils qui compilent et optimisent des morceaux du code :\n",
    "- Pythran\n",
    "- Numba (compilation _Just in time_)"
   ]
  },
  {
   "cell_type": "markdown",
   "id": "1c9569f7",
   "metadata": {
    "slideshow": {
     "slide_type": "slide"
    }
   },
   "source": [
    "### Numba"
   ]
  },
  {
   "cell_type": "code",
   "execution_count": null,
   "id": "0caf17f0",
   "metadata": {
    "slideshow": {
     "slide_type": "fragment"
    }
   },
   "outputs": [],
   "source": [
    "from numba import jit\n",
    "import numpy as np\n",
    "\n",
    "x = np.arange(100).reshape(10, 10)\n",
    "\n",
    "@jit(nopython=True) # Set \"nopython\" mode for best performance, equivalent to @njit\n",
    "def go_fast(a): # Function is compiled to machine code when called the first time\n",
    "    trace = 0.0\n",
    "    for i in range(a.shape[0]):   # Numba likes loops\n",
    "        trace += np.tanh(a[i, i]) # Numba likes NumPy functions\n",
    "    return a + trace              # Numba likes NumPy broadcasting\n"
   ]
  },
  {
   "cell_type": "code",
   "execution_count": null,
   "id": "77be9d39",
   "metadata": {
    "slideshow": {
     "slide_type": "subslide"
    }
   },
   "outputs": [],
   "source": [
    "%time z=go_fast(x)"
   ]
  },
  {
   "cell_type": "code",
   "execution_count": null,
   "id": "4db3b01f",
   "metadata": {
    "slideshow": {
     "slide_type": "subslide"
    }
   },
   "outputs": [],
   "source": [
    "import numpy as np\n",
    "\n",
    "x = np.arange(100).reshape(10, 10)\n",
    "\n",
    "def not_go_fast(a): # Function is compiled to machine code when called the first time\n",
    "    trace = 0.0\n",
    "    for i in range(a.shape[0]):   # Numba likes loops\n",
    "        trace += np.tanh(a[i, i]) # Numba likes NumPy functions\n",
    "    return a + trace              # Numba likes NumPy broadcasting"
   ]
  },
  {
   "cell_type": "code",
   "execution_count": null,
   "id": "2b9ed76c",
   "metadata": {
    "slideshow": {
     "slide_type": "subslide"
    }
   },
   "outputs": [],
   "source": [
    "%time z=not_go_fast(x)"
   ]
  },
  {
   "cell_type": "code",
   "execution_count": null,
   "id": "29697695",
   "metadata": {},
   "outputs": [],
   "source": [
    "%time z=go_fast(x)"
   ]
  }
 ],
 "metadata": {
  "celltoolbar": "Diaporama",
  "kernelspec": {
   "display_name": "Python 3 (ipykernel)",
   "language": "python",
   "name": "python3"
  },
  "language_info": {
   "codemirror_mode": {
    "name": "ipython",
    "version": 3
   },
   "file_extension": ".py",
   "mimetype": "text/x-python",
   "name": "python",
   "nbconvert_exporter": "python",
   "pygments_lexer": "ipython3",
   "version": "3.10.6"
  }
 },
 "nbformat": 4,
 "nbformat_minor": 5
}
